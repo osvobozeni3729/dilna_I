{
  "nbformat": 4,
  "nbformat_minor": 0,
  "metadata": {
    "colab": {
      "name": "07022022_I.ipynb",
      "provenance": [],
      "collapsed_sections": [],
      "authorship_tag": "ABX9TyMB0SiEY/Lsr8ZLH9CB4Box",
      "include_colab_link": true
    },
    "kernelspec": {
      "name": "python3",
      "display_name": "Python 3"
    },
    "language_info": {
      "name": "python"
    }
  },
  "cells": [
    {
      "cell_type": "markdown",
      "metadata": {
        "id": "view-in-github",
        "colab_type": "text"
      },
      "source": [
        "<a href=\"https://colab.research.google.com/github/osvobozeni3729/dilna_I/blob/main/07022022_I.ipynb\" target=\"_parent\"><img src=\"https://colab.research.google.com/assets/colab-badge.svg\" alt=\"Open In Colab\"/></a>"
      ]
    },
    {
      "cell_type": "code",
      "execution_count": 2,
      "metadata": {
        "colab": {
          "base_uri": "https://localhost:8080/"
        },
        "id": "wqZMcotvfmvo",
        "outputId": "22c57755-d11b-4807-cd47-43dc60512165"
      },
      "outputs": [
        {
          "output_type": "stream",
          "name": "stdout",
          "text": [
            "19.360000000000003\n"
          ]
        }
      ],
      "source": [
        "prihradka = 3\n",
        "strana_ctverce = 4.4\n",
        "obsah_ctverce = strana_ctverce  * strana_ctverce\n",
        "print(obsah_ctverce)"
      ]
    },
    {
      "cell_type": "markdown",
      "source": [
        "čísla(konstanty) - celé číslo (integer) 3 - desetinné číslo (float) 3.14 řetězce(string) - Karel"
      ],
      "metadata": {
        "id": "RIfGbYmun3M7"
      }
    },
    {
      "cell_type": "code",
      "source": [
        "strana_ctverce = 5\n",
        "obvod_ctverce = 4*strana_ctverce\n",
        "print(obvod_ctverce)"
      ],
      "metadata": {
        "id": "Bnjo4_n3j6o7"
      },
      "execution_count": null,
      "outputs": []
    },
    {
      "cell_type": "code",
      "source": [
        "strana_ctverce = float(input(\"zadej stranu čtverce:\"))\n",
        "obvod_ctverce = 4*strana_ctverce\n",
        "print(\"obvod čtverce je:\", obvod_ctverce)\n"
      ],
      "metadata": {
        "colab": {
          "base_uri": "https://localhost:8080/"
        },
        "id": "r-dKKprFk-oD",
        "outputId": "4c9a2f68-826f-4b9e-a453-bea5d6317c11"
      },
      "execution_count": 5,
      "outputs": [
        {
          "output_type": "stream",
          "name": "stdout",
          "text": [
            "zadej stanu čtverce:5.6\n",
            "22.4\n"
          ]
        }
      ]
    },
    {
      "cell_type": "code",
      "source": [
        "print(\" budeme žádat postupně 2 čísla\" )\n",
        "prvni_cislo = float(input(\"zadej první číslo:   \"))\n",
        "druhe_cislo = float(input(\"zadej druhé číslo:   \"))\n",
        "soucin = prvni_cislo * druhe_cislo\n",
        "print(\" soucin obou čísel je :\", soucin)"
      ],
      "metadata": {
        "colab": {
          "base_uri": "https://localhost:8080/"
        },
        "id": "Y_Xd_bA5plhk",
        "outputId": "8009273b-48ce-436c-e769-eb5457bdcfe8"
      },
      "execution_count": 6,
      "outputs": [
        {
          "output_type": "stream",
          "name": "stdout",
          "text": [
            " budeme žádat postupně 2 čísla\n",
            "zadej první číslo:   5.7\n",
            "zadej druhé číslo:   6.9\n",
            " soucin obou čísel je : 39.330000000000005\n"
          ]
        }
      ]
    },
    {
      "cell_type": "code",
      "source": [
        "g= input(\"zadej první slovo:  \")\n",
        "h = input(\" zadej druhé slovo:\")\n",
        "f = g + h\n",
        "print( \"výsledné slovo\", f)"
      ],
      "metadata": {
        "colab": {
          "base_uri": "https://localhost:8080/"
        },
        "id": "wcz8ne9Brd_Z",
        "outputId": "e1bd3fa1-e8b5-4ea1-be66-548a7357840a"
      },
      "execution_count": 7,
      "outputs": [
        {
          "output_type": "stream",
          "name": "stdout",
          "text": [
            "zadej první slovo:  jhjh\n",
            " zadej druhé slovo:klkl\n",
            "výsledné slovo jhjhklkl\n"
          ]
        }
      ]
    }
  ]
}