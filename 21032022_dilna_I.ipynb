{
  "nbformat": 4,
  "nbformat_minor": 0,
  "metadata": {
    "colab": {
      "name": "21032022_dilna_I.ipynb",
      "provenance": [],
      "collapsed_sections": [],
      "authorship_tag": "ABX9TyPSTDR/FrVJBrP10oWR62fK",
      "include_colab_link": true
    },
    "kernelspec": {
      "name": "python3",
      "display_name": "Python 3"
    },
    "language_info": {
      "name": "python"
    }
  },
  "cells": [
    {
      "cell_type": "markdown",
      "metadata": {
        "id": "view-in-github",
        "colab_type": "text"
      },
      "source": [
        "<a href=\"https://colab.research.google.com/github/osvobozeni3729/dilna_I/blob/main/21032022_dilna_I.ipynb\" target=\"_parent\"><img src=\"https://colab.research.google.com/assets/colab-badge.svg\" alt=\"Open In Colab\"/></a>"
      ]
    },
    {
      "cell_type": "code",
      "execution_count": 2,
      "metadata": {
        "colab": {
          "base_uri": "https://localhost:8080/"
        },
        "id": "w3e9SnJf-p54",
        "outputId": "56948372-8db2-49d1-9999-9962ed02581c"
      },
      "outputs": [
        {
          "output_type": "stream",
          "name": "stdout",
          "text": [
            "zadej číslo55\n",
            "110111\n"
          ]
        }
      ],
      "source": [
        "cislo = int(input(\"zadej číslo\"))\n",
        "binarni = \"\"\n",
        "delej = True\n",
        "while delej :\n",
        "  cela = cislo//2\n",
        "  zbytek = cislo%2\n",
        "  binarni = str(zbytek)+ binarni\n",
        "  cislo = cela\n",
        "  delej = cislo > 1\n",
        "binarni = \"1\" + binarni\n",
        "print(binarni)"
      ]
    }
  ]
}