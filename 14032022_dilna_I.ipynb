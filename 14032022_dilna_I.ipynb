{
  "nbformat": 4,
  "nbformat_minor": 0,
  "metadata": {
    "colab": {
      "name": "14032022_dilna_I.ipynb",
      "provenance": [],
      "collapsed_sections": [],
      "authorship_tag": "ABX9TyP69bwTALwT0mS82BaeceX8",
      "include_colab_link": true
    },
    "kernelspec": {
      "name": "python3",
      "display_name": "Python 3"
    },
    "language_info": {
      "name": "python"
    }
  },
  "cells": [
    {
      "cell_type": "markdown",
      "metadata": {
        "id": "view-in-github",
        "colab_type": "text"
      },
      "source": [
        "<a href=\"https://colab.research.google.com/github/osvobozeni3729/dilna_I/blob/main/14032022_dilna_I.ipynb\" target=\"_parent\"><img src=\"https://colab.research.google.com/assets/colab-badge.svg\" alt=\"Open In Colab\"/></a>"
      ]
    },
    {
      "cell_type": "code",
      "execution_count": null,
      "metadata": {
        "colab": {
          "base_uri": "https://localhost:8080/"
        },
        "id": "-VmYQmVVEdRG",
        "outputId": "50e728d7-97fd-4d28-f399-b39958989358"
      },
      "outputs": [
        {
          "output_type": "stream",
          "name": "stdout",
          "text": [
            "zadej řetězec:    opak\n",
            "zadej pošet opakování:   11\n",
            " opak                      opak\n",
            "  opak                    opak\n",
            "   opak                  opak\n",
            "    opak                opak\n",
            "     opak              opak\n",
            "      opak            opak\n",
            "       opak          opak\n",
            "        opak        opak\n",
            "         opak      opak\n",
            "          opak    opak\n",
            "           opak  opak\n",
            "            opakopak\n",
            "           opak  opak\n",
            "          opak    opak\n",
            "         opak      opak\n",
            "        opak        opak\n",
            "       opak          opak\n",
            "      opak            opak\n",
            "     opak              opak\n",
            "    opak                opak\n",
            "   opak                  opak\n",
            "  opak                    opak\n"
          ]
        }
      ],
      "source": [
        "X = input(\"zadej řetězec:    \")\n",
        "opak = int(input(\"zadej počet opakování:   \"))\n",
        "#opak = 8\n",
        "n = 2* opak -3\n",
        "for i in range(opak):\n",
        "  print(i*\" \", X, (n-2*i +1)*\" \", X)\n",
        "print(opak *\" \", 2*X)\n",
        "for i in range(opak-1,0, -1):\n",
        "  print(i*\" \", X, (n-2*i +1)*\" \", X)\n"
      ]
    },
    {
      "cell_type": "code",
      "source": [
        ""
      ],
      "metadata": {
        "id": "_RpIjg7wPCQK"
      },
      "execution_count": null,
      "outputs": []
    }
  ]
}